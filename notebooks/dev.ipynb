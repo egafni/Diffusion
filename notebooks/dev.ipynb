{
 "cells": [
  {
   "cell_type": "code",
   "execution_count": 88,
   "id": "initial_id",
   "metadata": {
    "ExecuteTime": {
     "end_time": "2024-04-16T21:31:56.034642Z",
     "start_time": "2024-04-16T21:31:56.003163Z"
    },
    "collapsed": true
   },
   "outputs": [
    {
     "name": "stdout",
     "output_type": "stream",
     "text": [
      "The autoreload extension is already loaded. To reload it, use:\n",
      "  %reload_ext autoreload\n"
     ]
    }
   ],
   "source": [
    "import matplotlib.pyplot as plt\n",
    "import numpy as np\n",
    "import torch\n",
    "from diffuse import datasets\n",
    "from dataclasses import dataclass\n",
    "import os\n",
    "import torch\n",
    "from torch import nn\n",
    "from torch.nn import functional as F\n",
    "from torch.utils.data import DataLoader\n",
    "\n",
    "import matplotlib.pyplot as plt\n",
    "import numpy as np\n",
    "\n",
    "from diffuse.models import MLP\n",
    "from diffuse.noise_scheduler import NoiseScheduler\n",
    "%load_ext autoreload\n",
    "%autoreload 2\n",
    "\n",
    "@dataclass\n",
    "class Config:\n",
    "    experiment_name: str = 'base'\n",
    "    dataset: str = 'dino'\n",
    "    train_batch_size: int = 128\n",
    "    eval_batch_size: int = 1000\n",
    "    num_epochs: int = 20\n",
    "    learning_rate: float = 1e-3\n",
    "    num_timesteps: int = 50\n",
    "    beta_schedule: str = \"log2\"\n",
    "    embedding_size: int = 128\n",
    "    hidden_size: int = 128\n",
    "    hidden_layers: int = 3\n",
    "    time_embedding: str = \"sinusoidal\"\n",
    "    input_embedding: str = \"sinusoidal\"\n",
    "    save_images_step: int = 1\n",
    "\n",
    "config = Config()"
   ]
  },
  {
   "cell_type": "markdown",
   "id": "6eb46e14",
   "metadata": {},
   "source": [
    "## Training"
   ]
  },
  {
   "cell_type": "code",
   "execution_count": 90,
   "id": "e830f5fed50c9b10",
   "metadata": {
    "ExecuteTime": {
     "end_time": "2024-04-16T21:31:59.422734Z",
     "start_time": "2024-04-16T21:31:59.292540Z"
    },
    "collapsed": false
   },
   "outputs": [
    {
     "name": "stdout",
     "output_type": "stream",
     "text": [
      "Training model...\n",
      "e0|s0 loss=0.80\n",
      "e4|s300 loss=0.77\n",
      "e9|s600 loss=0.74\n",
      "e14|s900 loss=0.76\n",
      "e19|s1200 loss=0.74\n"
     ]
    }
   ],
   "source": [
    "device = torch.device('cpu')\n",
    "dataset = datasets.get_dataset('moons')\n",
    "\n",
    "dataloader = DataLoader(\n",
    "    dataset, batch_size=config.train_batch_size, shuffle=True, drop_last=True)\n",
    "\n",
    "model = MLP(\n",
    "    hidden_size=config.hidden_size,\n",
    "    hidden_layers=config.hidden_layers,\n",
    "    emb_size=config.embedding_size,\n",
    "    time_emb=config.time_embedding,\n",
    "    input_emb=config.input_embedding).to(device)\n",
    "\n",
    "noise_scheduler = NoiseScheduler(\n",
    "    num_timesteps=config.num_timesteps,\n",
    "    beta_schedule=config.beta_schedule)\n",
    "\n",
    "optimizer = torch.optim.AdamW(\n",
    "    model.parameters(),\n",
    "    lr=config.learning_rate,\n",
    ")\n",
    "\n",
    "global_step = 0\n",
    "losses = []\n",
    "epoch_to_samples = dict()\n",
    "\n",
    "print(\"Training model...\")\n",
    "\n",
    "for epoch in range(config.num_epochs):\n",
    "    model.train()\n",
    "    for step, batch in enumerate(dataloader):\n",
    "        batch = batch[0]\n",
    "        noise = torch.randn(batch.shape)\n",
    "        timesteps = torch.randint(\n",
    "            0, noise_scheduler.num_timesteps, (batch.shape[0],)\n",
    "        ).long()\n",
    "        noisy = noise_scheduler.add_noise(batch, noise, timesteps)\n",
    "        noise_pred = model(noisy.to(device), timesteps.to(device))\n",
    "        loss = F.mse_loss(noise_pred, noise.to(device))\n",
    "        optimizer.zero_grad()\n",
    "        loss.backward(loss)\n",
    "\n",
    "        nn.utils.clip_grad_norm_(model.parameters(), 1.0)\n",
    "        optimizer.step()\n",
    "\n",
    "        losses.append(float(loss.detach().item()))\n",
    "\n",
    "        # progress_bar.set_postfix(**logs)\n",
    "        if global_step % 300 == 0:\n",
    "            loss = sum(losses[-30:])/min(30,len(losses)) # running loss\n",
    "            print(f'e{epoch}|s{global_step} loss={loss:.2f}')\n",
    "\n",
    "        global_step += 1\n",
    "\n",
    "    if epoch % config.save_images_step == 0 or epoch == config.num_epochs - 1:\n",
    "        epoch_to_samples[epoch]=model.sample(noise_scheduler)"
   ]
  },
  {
   "cell_type": "markdown",
   "id": "fcf4d32b",
   "metadata": {},
   "source": [
    "## Sampling"
   ]
  },
  {
   "cell_type": "code",
   "execution_count": 101,
   "id": "6462c7f9",
   "metadata": {},
   "outputs": [
    {
     "data": {
      "text/plain": [
       "(-6.0, 6.0)"
      ]
     },
     "execution_count": 101,
     "metadata": {},
     "output_type": "execute_result"
    },
    {
     "data": {
      "image/png": "[encoded data removed]",
      "text/plain": [
       "<Figure size 640x480 with 1 Axes>"
      ]
     },
     "metadata": {},
     "output_type": "display_data"
    }
   ],
   "source": [
    "fig,ax = plt.subplots()\n",
    "s = epoch_to_samples[16][40]\n",
    "ax.scatter(s[:,0],s[:,1])\n",
    "ax.set_xlim(-6,6)\n",
    "ax.set_ylim(-6,6)"
   ]
  },
  {
   "cell_type": "code",
   "execution_count": 102,
   "id": "dc6e46818d5cd71d",
   "metadata": {
    "collapsed": false
   },
   "outputs": [],
   "source": [
    "# print(\"Saving model...\")\n",
    "# outdir = f\"exps/{config.experiment_name}\"\n",
    "# os.makedirs(outdir, exist_ok=True)\n",
    "# torch.save(model.state_dict(), f\"{outdir}/model.pth\")\n",
    "\n",
    "# print(\"Saving images...\")\n",
    "# imgdir = f\"{outdir}/images\"\n",
    "# os.makedirs(imgdir, exist_ok=True)\n",
    "# frames = np.stack(frames)\n",
    "# xmin, xmax = -6, 6\n",
    "# ymin, ymax = -6, 6\n",
    "# for i, frame in enumerate(frames):\n",
    "#     plt.figure(figsize=(10, 10))\n",
    "#     plt.scatter(frame[:, 0], frame[:, 1])\n",
    "#     plt.xlim(xmin, xmax)\n",
    "#     plt.ylim(ymin, ymax)\n",
    "#     plt.savefig(f\"{imgdir}/{i:04}.png\")\n",
    "#     plt.close()\n",
    "\n",
    "# print(\"Saving loss as numpy array...\")\n",
    "# np.save(f\"{outdir}/loss.npy\", np.array(losses))\n",
    "\n",
    "# print(\"Saving frames...\")\n",
    "# np.save(f\"{outdir}/frames.npy\", frames)"
   ]
  },
  {
   "cell_type": "code",
   "execution_count": 110,
   "id": "f4c9ab61",
   "metadata": {},
   "outputs": [],
   "source": [
    "x = dataset.tensors[0]"
   ]
  },
  {
   "cell_type": "code",
   "execution_count": 118,
   "id": "146d2962",
   "metadata": {},
   "outputs": [
    {
     "data": {
      "text/plain": [
       "torch.Size([8000, 2, 50])"
      ]
     },
     "execution_count": 118,
     "metadata": {},
     "output_type": "execute_result"
    }
   ],
   "source": [
    "emb.shape"
   ]
  },
  {
   "cell_type": "code",
   "execution_count": 120,
   "id": "e48196e5",
   "metadata": {},
   "outputs": [
    {
     "data": {
      "text/plain": [
       "torch.Size([50])"
      ]
     },
     "execution_count": 120,
     "metadata": {},
     "output_type": "execute_result"
    }
   ],
   "source": [
    "emb.shape"
   ]
  },
  {
   "cell_type": "code",
   "execution_count": 128,
   "id": "d0d34fb1",
   "metadata": {},
   "outputs": [
    {
     "data": {
      "text/plain": [
       "torch.Size([8000, 2, 50])"
      ]
     },
     "execution_count": 128,
     "metadata": {},
     "output_type": "execute_result"
    }
   ],
   "source": [
    "(emb.unsqueeze(0) * x.unsqueeze(-1)).shape"
   ]
  },
  {
   "cell_type": "code",
   "execution_count": 135,
   "id": "720cc371",
   "metadata": {},
   "outputs": [
    {
     "data": {
      "text/plain": [
       "(torch.Size([8000, 2, 1]), torch.Size([1, 50]))"
      ]
     },
     "execution_count": 135,
     "metadata": {},
     "output_type": "execute_result"
    }
   ],
   "source": [
    "x.unsqueeze(-1).shape, emb.unsqueeze(0).shape"
   ]
  },
  {
   "cell_type": "code",
   "execution_count": 138,
   "id": "4c3c2fe0",
   "metadata": {},
   "outputs": [],
   "source": [
    "size=100\n",
    "half_size = size // 2\n",
    "emb = torch.log(torch.Tensor([10000.0])) / (half_size - 1)\n",
    "emb = torch.exp(-emb * torch.arange(half_size))\n",
    "# (B,2,1) * (1,50)\n",
    "emb = x.unsqueeze(-1) * emb.unsqueeze(0)\n",
    "emb = torch.cat((torch.sin(emb), torch.cos(emb)), dim=-1)\n",
    "# plt.plot(emb)"
   ]
  },
  {
   "cell_type": "code",
   "execution_count": 139,
   "id": "13728c6e",
   "metadata": {},
   "outputs": [
    {
     "data": {
      "text/plain": [
       "torch.Size([8000, 2, 100])"
      ]
     },
     "execution_count": 139,
     "metadata": {},
     "output_type": "execute_result"
    }
   ],
   "source": [
    "emb.shape"
   ]
  },
  {
   "cell_type": "code",
   "execution_count": 113,
   "id": "fbd3c4e6",
   "metadata": {},
   "outputs": [
    {
     "data": {
      "text/plain": [
       "tensor([0.1880])"
      ]
     },
     "execution_count": 113,
     "metadata": {},
     "output_type": "execute_result"
    }
   ],
   "source": []
  }
 ],
 "metadata": {
  "kernelspec": {
   "display_name": "Python 3",
   "language": "python",
   "name": "python3"
  },
  "language_info": {
   "codemirror_mode": {
    "name": "ipython",
    "version": 3
   },
   "file_extension": ".py",
   "mimetype": "text/x-python",
   "name": "python",
   "nbconvert_exporter": "python",
   "pygments_lexer": "ipython3",
   "version": "3.11.6"
  }
 },
 "nbformat": 4,
 "nbformat_minor": 5
}
